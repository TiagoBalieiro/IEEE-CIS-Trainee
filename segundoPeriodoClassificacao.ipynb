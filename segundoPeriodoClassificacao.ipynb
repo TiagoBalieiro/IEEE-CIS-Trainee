{
  "nbformat": 4,
  "nbformat_minor": 0,
  "metadata": {
    "colab": {
      "provenance": []
    },
    "kernelspec": {
      "name": "python3",
      "display_name": "Python 3"
    },
    "language_info": {
      "name": "python"
    }
  },
  "cells": [
    {
      "cell_type": "markdown",
      "source": [
        "# Análise Exploratório dos dados"
      ],
      "metadata": {
        "id": "6ef5V1wJRouY"
      }
    },
    {
      "cell_type": "code",
      "execution_count": 76,
      "metadata": {
        "colab": {
          "base_uri": "https://localhost:8080/",
          "height": 0
        },
        "id": "S6L-CRawNRL7",
        "outputId": "9af09874-996f-484a-9032-96f722f2c166"
      },
      "outputs": [
        {
          "output_type": "stream",
          "name": "stdout",
          "text": [
            "Informações Train \n",
            "\n",
            "<class 'pandas.core.frame.DataFrame'>\n",
            "RangeIndex: 5986 entries, 0 to 5985\n",
            "Data columns (total 30 columns):\n",
            " #   Column             Non-Null Count  Dtype  \n",
            "---  ------             --------------  -----  \n",
            " 0   CustomerID         5986 non-null   object \n",
            " 1   Count              5986 non-null   int64  \n",
            " 2   Country            5986 non-null   object \n",
            " 3   State              5986 non-null   object \n",
            " 4   City               5986 non-null   object \n",
            " 5   Zip Code           5986 non-null   int64  \n",
            " 6   Lat Long           5986 non-null   object \n",
            " 7   Latitude           5986 non-null   float64\n",
            " 8   Longitude          5986 non-null   float64\n",
            " 9   Gender             5986 non-null   object \n",
            " 10  Senior Citizen     5986 non-null   object \n",
            " 11  Partner            5986 non-null   object \n",
            " 12  Dependents         5986 non-null   object \n",
            " 13  Tenure Months      5986 non-null   int64  \n",
            " 14  Phone Service      5986 non-null   object \n",
            " 15  Multiple Lines     5986 non-null   object \n",
            " 16  Internet Service   5986 non-null   object \n",
            " 17  Online Security    5986 non-null   object \n",
            " 18  Online Backup      5986 non-null   object \n",
            " 19  Device Protection  5986 non-null   object \n",
            " 20  Tech Support       5986 non-null   object \n",
            " 21  Streaming TV       5986 non-null   object \n",
            " 22  Streaming Movies   5986 non-null   object \n",
            " 23  Contract           5986 non-null   object \n",
            " 24  Paperless Billing  5986 non-null   object \n",
            " 25  Payment Method     5986 non-null   object \n",
            " 26  Monthly Charges    5986 non-null   float64\n",
            " 27  Total Charges      5986 non-null   object \n",
            " 28  Churn Label        5986 non-null   object \n",
            " 29  CLTV               5986 non-null   int64  \n",
            "dtypes: float64(3), int64(4), object(23)\n",
            "memory usage: 1.4+ MB\n",
            "Quantidade de elementos nulos de Train \n",
            "\n",
            "CustomerID           0\n",
            "Count                0\n",
            "Country              0\n",
            "State                0\n",
            "City                 0\n",
            "Zip Code             0\n",
            "Lat Long             0\n",
            "Latitude             0\n",
            "Longitude            0\n",
            "Gender               0\n",
            "Senior Citizen       0\n",
            "Partner              0\n",
            "Dependents           0\n",
            "Tenure Months        0\n",
            "Phone Service        0\n",
            "Multiple Lines       0\n",
            "Internet Service     0\n",
            "Online Security      0\n",
            "Online Backup        0\n",
            "Device Protection    0\n",
            "Tech Support         0\n",
            "Streaming TV         0\n",
            "Streaming Movies     0\n",
            "Contract             0\n",
            "Paperless Billing    0\n",
            "Payment Method       0\n",
            "Monthly Charges      0\n",
            "Total Charges        0\n",
            "Churn Label          0\n",
            "CLTV                 0\n",
            "dtype: int64\n",
            "Informações Test \n",
            "\n",
            "<class 'pandas.core.frame.DataFrame'>\n",
            "RangeIndex: 1057 entries, 0 to 1056\n",
            "Data columns (total 29 columns):\n",
            " #   Column             Non-Null Count  Dtype  \n",
            "---  ------             --------------  -----  \n",
            " 0   CustomerID         1057 non-null   object \n",
            " 1   Count              1057 non-null   int64  \n",
            " 2   Country            1057 non-null   object \n",
            " 3   State              1057 non-null   object \n",
            " 4   City               1057 non-null   object \n",
            " 5   Zip Code           1057 non-null   int64  \n",
            " 6   Lat Long           1057 non-null   object \n",
            " 7   Latitude           1057 non-null   float64\n",
            " 8   Longitude          1057 non-null   float64\n",
            " 9   Gender             1057 non-null   object \n",
            " 10  Senior Citizen     1057 non-null   object \n",
            " 11  Partner            1057 non-null   object \n",
            " 12  Dependents         1057 non-null   object \n",
            " 13  Tenure Months      1057 non-null   int64  \n",
            " 14  Phone Service      1057 non-null   object \n",
            " 15  Multiple Lines     1057 non-null   object \n",
            " 16  Internet Service   1057 non-null   object \n",
            " 17  Online Security    1057 non-null   object \n",
            " 18  Online Backup      1057 non-null   object \n",
            " 19  Device Protection  1057 non-null   object \n",
            " 20  Tech Support       1057 non-null   object \n",
            " 21  Streaming TV       1057 non-null   object \n",
            " 22  Streaming Movies   1057 non-null   object \n",
            " 23  Contract           1057 non-null   object \n",
            " 24  Paperless Billing  1057 non-null   object \n",
            " 25  Payment Method     1057 non-null   object \n",
            " 26  Monthly Charges    1057 non-null   float64\n",
            " 27  Total Charges      1057 non-null   float64\n",
            " 28  CLTV               1057 non-null   int64  \n",
            "dtypes: float64(4), int64(4), object(21)\n",
            "memory usage: 239.6+ KB\n",
            "Quantidade de elementos nulos de Test \n",
            "\n",
            "CustomerID           0\n",
            "Count                0\n",
            "Country              0\n",
            "State                0\n",
            "City                 0\n",
            "Zip Code             0\n",
            "Lat Long             0\n",
            "Latitude             0\n",
            "Longitude            0\n",
            "Gender               0\n",
            "Senior Citizen       0\n",
            "Partner              0\n",
            "Dependents           0\n",
            "Tenure Months        0\n",
            "Phone Service        0\n",
            "Multiple Lines       0\n",
            "Internet Service     0\n",
            "Online Security      0\n",
            "Online Backup        0\n",
            "Device Protection    0\n",
            "Tech Support         0\n",
            "Streaming TV         0\n",
            "Streaming Movies     0\n",
            "Contract             0\n",
            "Paperless Billing    0\n",
            "Payment Method       0\n",
            "Monthly Charges      0\n",
            "Total Charges        0\n",
            "CLTV                 0\n",
            "dtype: int64\n"
          ]
        }
      ],
      "source": [
        "import pandas as pd\n",
        "\n",
        "train = pd.read_csv('/content/df_train.csv', engine='python', on_bad_lines='skip')\n",
        "test = pd.read_csv('/content/df_test.csv', engine='python', on_bad_lines='skip')\n",
        "\n",
        "print(\"Informações Train \\n\")\n",
        "train.info()\n",
        "print(\"Quantidade de elementos nulos de Train \\n\")\n",
        "print(train.isnull().sum())\n",
        "\n",
        "print(\"Informações Test \\n\")\n",
        "test.info()\n",
        "print(\"Quantidade de elementos nulos de Test \\n\")\n",
        "print(test.isnull().sum())"
      ]
    },
    {
      "cell_type": "markdown",
      "source": [
        "Com isso podemos ver que não existe nenhum elemento nulo ou vazio e os tipos de dados de cada variável.\n",
        "Agora iremos transformar variáveis que deveriam ser númericas porém estão sendo consideradas como object. E verificar os casos únicos de cada coluna."
      ],
      "metadata": {
        "id": "gPUehNDucBXq"
      }
    },
    {
      "cell_type": "code",
      "source": [
        "train.drop(columns=['City', 'Zip Code', 'Lat Long', 'Latitude', 'Longitude', 'Monthly Charges', 'Tenure Months', 'Total Charges'], inplace=True)\n",
        "test.drop(columns=['City', 'Zip Code', 'Lat Long', 'Latitude', 'Longitude', 'Monthly Charges', 'Tenure Months', 'Total Charges'], inplace=True)\n",
        "\n",
        "for coluna in train.columns:\n",
        "    unique_values = train[coluna].unique()\n",
        "    print(f\"Valores únicos na coluna '{coluna}': {unique_values}\")\n",
        "\n",
        "for coluna in test.columns:\n",
        "    unique_values = test[coluna].unique()\n",
        "    print(f\"Valores únicos na coluna '{coluna}': {unique_values}\")\n"
      ],
      "metadata": {
        "colab": {
          "base_uri": "https://localhost:8080/",
          "height": 0
        },
        "id": "2p-Ai_7ZcJjY",
        "outputId": "bcea4bb5-64d4-458f-b1cf-1e930050a709"
      },
      "execution_count": 2,
      "outputs": [
        {
          "output_type": "stream",
          "name": "stdout",
          "text": [
            "Valores únicos na coluna 'CustomerID': ['7590-VHVEG' '3038-PQIUY' '1468-DEFNC' ... '4804-NCPET' '2878-DHMIN'\n",
            " '7774-OJSXI']\n",
            "Valores únicos na coluna 'Count': [1]\n",
            "Valores únicos na coluna 'Country': ['United States']\n",
            "Valores únicos na coluna 'State': ['California']\n",
            "Valores únicos na coluna 'Gender': ['Female' 'Male']\n",
            "Valores únicos na coluna 'Senior Citizen': ['No' 'Yes']\n",
            "Valores únicos na coluna 'Partner': ['Yes' 'No']\n",
            "Valores únicos na coluna 'Dependents': ['No' 'Yes']\n",
            "Valores únicos na coluna 'Phone Service': ['No' 'Yes']\n",
            "Valores únicos na coluna 'Multiple Lines': ['No phone service' 'Yes' 'No']\n",
            "Valores únicos na coluna 'Internet Service': ['DSL' 'No' 'Fiber optic']\n",
            "Valores únicos na coluna 'Online Security': ['No' 'Yes' 'No internet service']\n",
            "Valores únicos na coluna 'Online Backup': ['Yes' 'No internet service' 'No']\n",
            "Valores únicos na coluna 'Device Protection': ['No' 'Yes' 'No internet service']\n",
            "Valores únicos na coluna 'Tech Support': ['No' 'No internet service' 'Yes']\n",
            "Valores únicos na coluna 'Streaming TV': ['No' 'No internet service' 'Yes']\n",
            "Valores únicos na coluna 'Streaming Movies': ['No' 'No internet service' 'Yes']\n",
            "Valores únicos na coluna 'Contract': ['Month-to-month' 'Two year' 'One year']\n",
            "Valores únicos na coluna 'Paperless Billing': ['Yes' 'No']\n",
            "Valores únicos na coluna 'Payment Method': ['Electronic check' 'Bank transfer (automatic)' 'Credit card (automatic)'\n",
            " 'Mailed check']\n",
            "Valores únicos na coluna 'Churn Label': ['No' 'Yes']\n",
            "Valores únicos na coluna 'CLTV': [3964 4933 4772 ... 2547 5549 2334]\n",
            "Valores únicos na coluna 'CustomerID': ['2189-WWOEW' '2446-ZKVAF' '4986-MXSFP' ... '3865-YIOTT' '3009-JWMPU'\n",
            " '1097-FSPVW']\n",
            "Valores únicos na coluna 'Count': [1]\n",
            "Valores únicos na coluna 'Country': ['United States']\n",
            "Valores únicos na coluna 'State': ['California']\n",
            "Valores únicos na coluna 'Gender': ['Female' 'Male']\n",
            "Valores únicos na coluna 'Senior Citizen': ['No' 'Yes']\n",
            "Valores únicos na coluna 'Partner': ['No' 'Yes']\n",
            "Valores únicos na coluna 'Dependents': ['No' 'Yes']\n",
            "Valores únicos na coluna 'Phone Service': ['Yes' 'No']\n",
            "Valores únicos na coluna 'Multiple Lines': ['No' 'Yes' 'No phone service']\n",
            "Valores únicos na coluna 'Internet Service': ['Fiber optic' 'DSL' 'No']\n",
            "Valores únicos na coluna 'Online Security': ['No' 'No internet service' 'Yes']\n",
            "Valores únicos na coluna 'Online Backup': ['Yes' 'No internet service' 'No']\n",
            "Valores únicos na coluna 'Device Protection': ['No' 'No internet service' 'Yes']\n",
            "Valores únicos na coluna 'Tech Support': ['No' 'No internet service' 'Yes']\n",
            "Valores únicos na coluna 'Streaming TV': ['No' 'No internet service' 'Yes']\n",
            "Valores únicos na coluna 'Streaming Movies': ['Yes' 'No' 'No internet service']\n",
            "Valores únicos na coluna 'Contract': ['Month-to-month' 'One year' 'Two year']\n",
            "Valores únicos na coluna 'Paperless Billing': ['Yes' 'No']\n",
            "Valores únicos na coluna 'Payment Method': ['Bank transfer (automatic)' 'Credit card (automatic)' 'Mailed check'\n",
            " 'Electronic check']\n",
            "Valores únicos na coluna 'CLTV': [3579 5558 2237 5834 3492 5546 4889 5643 4769 2269 2568 2904 6045 4883\n",
            " 5838 6250 4954 5277 3766 6202 4689 5795 4176 4639 2248 6469 4740 5982\n",
            " 4890 5152 4159 5428 5830 3972 3567 2784 3740 4855 6034 6302 4296 4526\n",
            " 5479 5636 4250 4917 3556 5552 4162 5447 5683 4165 6275 3542 6452 4352\n",
            " 5655 2184 3799 4977 2325 5990 6092 5523 5782 5038 4751 2132 5756 5611\n",
            " 3967 2777 3820 4283 4533 5489 4408 5053 4911 6194 5719 5560 5632 5023\n",
            " 2934 4964 5671 2332 3106 4231 4562 5063 3049 4492 4369 5656 3195 5320\n",
            " 4691 3803 5904 2604 4333 4171 5388 5725 2202 5045 3706 6019 3162 5082\n",
            " 5866 3764 6011 5730 3976 5005 5001 5318 5403 3762 4667 4388 4133 3270\n",
            " 5098 6198 2990 4317 4412 4395 3259 3415 2362 6314 4487 3124 5906 4057\n",
            " 5534 6161 4279 4027 4741 4015 6193 5898 4020 5092 3462 4840 4941 5441\n",
            " 5433 4940 2333 5587 4580 4584 5003 3391 4067 3851 5896 2516 2240 4995\n",
            " 4319 5715 4192 5875 6100 5122 3383 4760 2712 3601 2504 4017 3046 5011\n",
            " 3300 2686 5186 3575 4602 5703 4556 5757 4454 2421 2792 4965 5861 6173\n",
            " 4459 6492 4207 2406 3160 4244 2788 4288 2522 3172 5971 5165 6009 5916\n",
            " 4437 5184 5910 4770 5133 5651 5559 3351 6330 3973 4120 5882 3127 4114\n",
            " 5541 3856 4347 4627 2045 3448 5271 3206 5322 2644 5336 5106 5827 4824\n",
            " 3503 2750 5137 2159 4700 5269 2074 4800 4929 3192 3476 6170 5168 2848\n",
            " 5500 4201 5713 3475 4425 2876 5286 4935 5624 5249 2380 3875 5087 5917\n",
            " 5040 5293 3975 3540 5654 2761 4931 3721 4411 3620 3007 4535 3296 4277\n",
            " 3677 5940 3529 4402 5536 5076 5496 6032 4676 2926 4119 4838 3800 5583\n",
            " 3817 4335 3947 5261 2168 2851 5905 3981 5066 3441 2450 4446 4969 5902\n",
            " 2682 5829 2819 2577 2301 4104 4163 5833 3966 2864 3155 3865 4461 4193\n",
            " 2649 2040 6043 4021 4705 5531 2058 5232 2673 3154 3179 4235 4656 5779\n",
            " 2122 6109 3513 5988 4812 5436 5592 4098 5497 4710 4521 4529 5491 2927\n",
            " 2631 6312 5614 5055 5411 3198 2071 2404 2776 5878 2979 3878 3685 4219\n",
            " 4458 5512 2901 5475 4381 4135 4184 4496 5169 5620 2740 4480 5105 2464\n",
            " 4131 4111 3271 3225 5701 5542 3468 6044 4341 2590 4149 4600 5283 4248\n",
            " 4596 5817 4328 2283 5145 3738 3734 4336 4592 5699 3037 4842 5400 4870\n",
            " 3032 2429 6245 4312 3360 5355 5449 4474 3244 5597 4577 4394 5828 4796\n",
            " 3344 4524 3428 5124 3442 5598 2728 5442 2787 4928 5613 5189 3571 2483\n",
            " 4251 5085 4198 2548 3543 3855 3847 3290 5557 2907 4648 6030 3520 5202\n",
            " 5641 5237 2245 2221 5561 5691 3756 4985 5118 3509 4829 4247 4118 3163\n",
            " 4568 5733 2054 2347 3997 3104 5314 2037 3052 3493 4134 4329 2085 2698\n",
            " 4512 5466 6423 5474 5973 5379 3582 2003 5360 3094 2797 5309 4340 4209\n",
            " 2065 2403 5056 5458 4404 4374 3031 2540 2961 3642 5295 4734 6265 2679\n",
            " 3573 4621 3314 2739 5874 6489 4743 5887 4688 4337 3723 4900 5380 3607\n",
            " 4649 3921 4634 5172 2463 4831 5895 5994 4079 5769 5868 4256 4281 4745\n",
            " 4390 3380 4815 3545 4959 4226 3096 6080 3354 5788 2564 3627 4846 3941\n",
            " 4718 3515 5863 6236 5230 3280 2499 5153 2195 3077 5315 2610 4725 5337\n",
            " 4607 5072 2416 4168 5227 2867 4565 3553 5586 4069 5488 3986 4695 3061\n",
            " 3558 5224 2331 2562 5247 5918 2507 6319 5915 5267 2189 4421 2882 2098\n",
            " 4036 4589 5722 2576 3924 3185 2469 4467 5596 6289 5601 5029 3392 4406\n",
            " 5443 3363 3854 5570 4237 5494 3646 4447 5095 5316 6481 6292 2984 3971\n",
            " 3591 2119 2322 5197 5606 2365 4858 5302 4443 4278 5957 4614 2817 5317\n",
            " 2965 3747 5461 2807 4603 6124 2699 4152 5913 5108 4958 5974 3657 3625\n",
            " 5901 4212 3787 2468 4733 6132 3150 3754 2734 5027 5265 6263 5007 5832\n",
            " 5392 5972 5285 2182 5211 2660 4712 4413 6117 4694 6078 5308 4345 3807\n",
            " 4975 3498 3142 4147 3523 4419 4561 5228 5159 3080 4389 5989 4204 5018\n",
            " 2639 4582 3460 5065 6424 5709 4485 4546 3366 5490 4531 4274 5131 5748\n",
            " 3517 5413 4200 2312 4076 5692 3068 2745 5579 4872 4509 5035 2833 3810\n",
            " 2327 5014 6483 2989 5255 5677 3249 5747 3902 4420 2177 5281 3330 5453\n",
            " 4096 2650 3511 2941 5150 4403 4477 4011 2569 6433 5629 5344 3191 4754\n",
            " 6367 2418 3009 2219 4315 3784 4191 5387 2558 6006 2473 3916 4553 2305\n",
            " 5511 2732 3918 5751 2709 6053 5502 3235 5537 5451 5572 5842 4190 6186\n",
            " 2647 3718 5554 3005 3108 4766 4945 4971 4205 2929 5250 5984 3729 2637\n",
            " 6015 3019 4202 5074 5077 2152 4103 5847 2510 6354 5731 2578 4708 4334\n",
            " 4093 4572 4030 4392 4136 3159 5119 4669 5192 2496 5233 4265 4464 2847\n",
            " 4771 2323 5626 4343 4633 3355 3885 4261 6473 5617 5252 2412 5687 5306\n",
            " 3246 4703 3760 5610 4811 2050 4499 6441 4498 2140 2233 3656 4606 4122\n",
            " 4908 3098 4548 4611 5245 5841 5823 4270 2194 5573 2183 3913 4895 3773\n",
            " 2174 5084 3818 2172 4545 6233 4704 3110 5566 2606 3303 5012 5742 3438\n",
            " 4428 5200 5678 2145 2288 4038 2810 4116 2643 3101 4517 4795 4778 2101\n",
            " 4868 3955 4025 4631 3565 6388 4121 5276 4208 4042 4099 3058 4350 5435\n",
            " 5657 5057 5079 3746 5346 4236 2570 2683 5272 4486 6357 4792 4019 4698\n",
            " 4898 4501 5789 3655 3828 4029 5933 3590 6153 5010 3866 5024 5616 5136\n",
            " 3305 2388 5942 4853 6283 5016]\n"
          ]
        }
      ]
    },
    {
      "cell_type": "code",
      "source": [
        "\n",
        "\n",
        "bins = [2000, 3000, 4000, 5000, 6000, 6500]\n",
        "labels = [2, 3, 4, 5, 6]\n",
        "\n",
        "train['CLTV'] = pd.cut(train['CLTV'], bins=bins, labels=labels, right=False)\n",
        "test['CLTV'] = pd.cut(test['CLTV'], bins=bins, labels=labels, right=False)\n",
        "\n",
        "train['CLTV'].head()\n",
        "test['CLTV'].head()"
      ],
      "metadata": {
        "colab": {
          "base_uri": "https://localhost:8080/",
          "height": 241
        },
        "id": "9Cwt_Np99Cah",
        "outputId": "e7d3b448-f7b8-429d-c385-f30f3ca198ac"
      },
      "execution_count": 3,
      "outputs": [
        {
          "output_type": "execute_result",
          "data": {
            "text/plain": [
              "0    3\n",
              "1    5\n",
              "2    2\n",
              "3    5\n",
              "4    3\n",
              "Name: CLTV, dtype: category\n",
              "Categories (5, int64): [2 < 3 < 4 < 5 < 6]"
            ],
            "text/html": [
              "<div>\n",
              "<style scoped>\n",
              "    .dataframe tbody tr th:only-of-type {\n",
              "        vertical-align: middle;\n",
              "    }\n",
              "\n",
              "    .dataframe tbody tr th {\n",
              "        vertical-align: top;\n",
              "    }\n",
              "\n",
              "    .dataframe thead th {\n",
              "        text-align: right;\n",
              "    }\n",
              "</style>\n",
              "<table border=\"1\" class=\"dataframe\">\n",
              "  <thead>\n",
              "    <tr style=\"text-align: right;\">\n",
              "      <th></th>\n",
              "      <th>CLTV</th>\n",
              "    </tr>\n",
              "  </thead>\n",
              "  <tbody>\n",
              "    <tr>\n",
              "      <th>0</th>\n",
              "      <td>3</td>\n",
              "    </tr>\n",
              "    <tr>\n",
              "      <th>1</th>\n",
              "      <td>5</td>\n",
              "    </tr>\n",
              "    <tr>\n",
              "      <th>2</th>\n",
              "      <td>2</td>\n",
              "    </tr>\n",
              "    <tr>\n",
              "      <th>3</th>\n",
              "      <td>5</td>\n",
              "    </tr>\n",
              "    <tr>\n",
              "      <th>4</th>\n",
              "      <td>3</td>\n",
              "    </tr>\n",
              "  </tbody>\n",
              "</table>\n",
              "</div><br><label><b>dtype:</b> category</label>"
            ]
          },
          "metadata": {},
          "execution_count": 3
        }
      ]
    },
    {
      "cell_type": "markdown",
      "source": [
        "Algumas colunas possuem apenas uma variável, não possuindo um impacto na previsão já que todos os valores são iguais. E outras colunas também não possuem um significado importante para o nosso modelo, então elas foram apagadas."
      ],
      "metadata": {
        "id": "Wavnds0_jeXT"
      }
    },
    {
      "cell_type": "markdown",
      "source": [
        "# Codificando variáveis categóricas\n"
      ],
      "metadata": {
        "id": "8-8QyW-pq71f"
      }
    },
    {
      "cell_type": "code",
      "source": [
        "from sklearn.preprocessing import StandardScaler, OneHotEncoder\n",
        "from sklearn.compose import ColumnTransformer\n",
        "\n",
        "colunas_numericas = ['Count', 'CLTV']\n",
        "\n",
        "colunas_categoricas_train = ['Country', 'State', 'Gender', 'Senior Citizen', 'Partner', 'Dependents', 'Phone Service', 'Multiple Lines', 'Internet Service', 'Online Security', 'Online Backup', 'Device Protection', 'Tech Support', 'Streaming TV', 'Streaming Movies', 'Contract', 'Paperless Billing', 'Payment Method', 'Churn Label']\n",
        "colunas_categoricas_test = ['Country', 'State', 'Gender', 'Senior Citizen', 'Partner', 'Dependents', 'Phone Service', 'Multiple Lines', 'Internet Service', 'Online Security', 'Online Backup', 'Device Protection', 'Tech Support', 'Streaming TV', 'Streaming Movies', 'Contract', 'Paperless Billing', 'Payment Method']\n",
        "\n",
        "encoder = OneHotEncoder()\n",
        "\n",
        "transformer_train = ColumnTransformer(\n",
        "    transformers=[\n",
        "        ('num', StandardScaler(), colunas_numericas),  # Aplica StandardScaler às colunas numéricas\n",
        "        ('cat', OneHotEncoder(), colunas_categoricas_train)  # Aplica OneHotEncoder às colunas categóricas\n",
        "    ]\n",
        ")\n",
        "\n",
        "transformer_test = ColumnTransformer(\n",
        "    transformers=[\n",
        "        ('num', StandardScaler(), colunas_numericas),  # Aplica StandardScaler às colunas numéricas\n",
        "        ('cat', OneHotEncoder(), colunas_categoricas_test)  # Aplica OneHotEncoder às colunas categóricas\n",
        "    ]\n",
        ")\n",
        "\n",
        "train_transformado = transformer_train.fit_transform(train)\n",
        "test_transformado = transformer_test.fit_transform(test)\n",
        "\n",
        "\n",
        "train_transformado = pd.DataFrame(train_transformado, columns=transformer_train.get_feature_names_out())\n",
        "test_transformado = pd.DataFrame(test_transformado, columns=transformer_test.get_feature_names_out())\n",
        "\n",
        "train_codificado = pd.DataFrame(train_transformado)\n",
        "test_codificado = pd.DataFrame(test_transformado)\n",
        "\n",
        "train_codificado.drop(columns=['cat__Churn Label_No'], inplace=True)\n",
        "train_codificado.info()\n",
        "\n",
        "test_codificado.info()\n"
      ],
      "metadata": {
        "colab": {
          "base_uri": "https://localhost:8080/",
          "height": 0
        },
        "id": "LCbYuiMIplpV",
        "outputId": "39a6e18c-4597-40ab-b2d3-d24d0423b935"
      },
      "execution_count": 4,
      "outputs": [
        {
          "output_type": "stream",
          "name": "stdout",
          "text": [
            "<class 'pandas.core.frame.DataFrame'>\n",
            "RangeIndex: 5986 entries, 0 to 5985\n",
            "Data columns (total 48 columns):\n",
            " #   Column                                         Non-Null Count  Dtype  \n",
            "---  ------                                         --------------  -----  \n",
            " 0   num__Count                                     5986 non-null   float64\n",
            " 1   num__CLTV                                      5986 non-null   float64\n",
            " 2   cat__Country_United States                     5986 non-null   float64\n",
            " 3   cat__State_California                          5986 non-null   float64\n",
            " 4   cat__Gender_Female                             5986 non-null   float64\n",
            " 5   cat__Gender_Male                               5986 non-null   float64\n",
            " 6   cat__Senior Citizen_No                         5986 non-null   float64\n",
            " 7   cat__Senior Citizen_Yes                        5986 non-null   float64\n",
            " 8   cat__Partner_No                                5986 non-null   float64\n",
            " 9   cat__Partner_Yes                               5986 non-null   float64\n",
            " 10  cat__Dependents_No                             5986 non-null   float64\n",
            " 11  cat__Dependents_Yes                            5986 non-null   float64\n",
            " 12  cat__Phone Service_No                          5986 non-null   float64\n",
            " 13  cat__Phone Service_Yes                         5986 non-null   float64\n",
            " 14  cat__Multiple Lines_No                         5986 non-null   float64\n",
            " 15  cat__Multiple Lines_No phone service           5986 non-null   float64\n",
            " 16  cat__Multiple Lines_Yes                        5986 non-null   float64\n",
            " 17  cat__Internet Service_DSL                      5986 non-null   float64\n",
            " 18  cat__Internet Service_Fiber optic              5986 non-null   float64\n",
            " 19  cat__Internet Service_No                       5986 non-null   float64\n",
            " 20  cat__Online Security_No                        5986 non-null   float64\n",
            " 21  cat__Online Security_No internet service       5986 non-null   float64\n",
            " 22  cat__Online Security_Yes                       5986 non-null   float64\n",
            " 23  cat__Online Backup_No                          5986 non-null   float64\n",
            " 24  cat__Online Backup_No internet service         5986 non-null   float64\n",
            " 25  cat__Online Backup_Yes                         5986 non-null   float64\n",
            " 26  cat__Device Protection_No                      5986 non-null   float64\n",
            " 27  cat__Device Protection_No internet service     5986 non-null   float64\n",
            " 28  cat__Device Protection_Yes                     5986 non-null   float64\n",
            " 29  cat__Tech Support_No                           5986 non-null   float64\n",
            " 30  cat__Tech Support_No internet service          5986 non-null   float64\n",
            " 31  cat__Tech Support_Yes                          5986 non-null   float64\n",
            " 32  cat__Streaming TV_No                           5986 non-null   float64\n",
            " 33  cat__Streaming TV_No internet service          5986 non-null   float64\n",
            " 34  cat__Streaming TV_Yes                          5986 non-null   float64\n",
            " 35  cat__Streaming Movies_No                       5986 non-null   float64\n",
            " 36  cat__Streaming Movies_No internet service      5986 non-null   float64\n",
            " 37  cat__Streaming Movies_Yes                      5986 non-null   float64\n",
            " 38  cat__Contract_Month-to-month                   5986 non-null   float64\n",
            " 39  cat__Contract_One year                         5986 non-null   float64\n",
            " 40  cat__Contract_Two year                         5986 non-null   float64\n",
            " 41  cat__Paperless Billing_No                      5986 non-null   float64\n",
            " 42  cat__Paperless Billing_Yes                     5986 non-null   float64\n",
            " 43  cat__Payment Method_Bank transfer (automatic)  5986 non-null   float64\n",
            " 44  cat__Payment Method_Credit card (automatic)    5986 non-null   float64\n",
            " 45  cat__Payment Method_Electronic check           5986 non-null   float64\n",
            " 46  cat__Payment Method_Mailed check               5986 non-null   float64\n",
            " 47  cat__Churn Label_Yes                           5986 non-null   float64\n",
            "dtypes: float64(48)\n",
            "memory usage: 2.2 MB\n",
            "<class 'pandas.core.frame.DataFrame'>\n",
            "RangeIndex: 1057 entries, 0 to 1056\n",
            "Data columns (total 47 columns):\n",
            " #   Column                                         Non-Null Count  Dtype  \n",
            "---  ------                                         --------------  -----  \n",
            " 0   num__Count                                     1057 non-null   float64\n",
            " 1   num__CLTV                                      1057 non-null   float64\n",
            " 2   cat__Country_United States                     1057 non-null   float64\n",
            " 3   cat__State_California                          1057 non-null   float64\n",
            " 4   cat__Gender_Female                             1057 non-null   float64\n",
            " 5   cat__Gender_Male                               1057 non-null   float64\n",
            " 6   cat__Senior Citizen_No                         1057 non-null   float64\n",
            " 7   cat__Senior Citizen_Yes                        1057 non-null   float64\n",
            " 8   cat__Partner_No                                1057 non-null   float64\n",
            " 9   cat__Partner_Yes                               1057 non-null   float64\n",
            " 10  cat__Dependents_No                             1057 non-null   float64\n",
            " 11  cat__Dependents_Yes                            1057 non-null   float64\n",
            " 12  cat__Phone Service_No                          1057 non-null   float64\n",
            " 13  cat__Phone Service_Yes                         1057 non-null   float64\n",
            " 14  cat__Multiple Lines_No                         1057 non-null   float64\n",
            " 15  cat__Multiple Lines_No phone service           1057 non-null   float64\n",
            " 16  cat__Multiple Lines_Yes                        1057 non-null   float64\n",
            " 17  cat__Internet Service_DSL                      1057 non-null   float64\n",
            " 18  cat__Internet Service_Fiber optic              1057 non-null   float64\n",
            " 19  cat__Internet Service_No                       1057 non-null   float64\n",
            " 20  cat__Online Security_No                        1057 non-null   float64\n",
            " 21  cat__Online Security_No internet service       1057 non-null   float64\n",
            " 22  cat__Online Security_Yes                       1057 non-null   float64\n",
            " 23  cat__Online Backup_No                          1057 non-null   float64\n",
            " 24  cat__Online Backup_No internet service         1057 non-null   float64\n",
            " 25  cat__Online Backup_Yes                         1057 non-null   float64\n",
            " 26  cat__Device Protection_No                      1057 non-null   float64\n",
            " 27  cat__Device Protection_No internet service     1057 non-null   float64\n",
            " 28  cat__Device Protection_Yes                     1057 non-null   float64\n",
            " 29  cat__Tech Support_No                           1057 non-null   float64\n",
            " 30  cat__Tech Support_No internet service          1057 non-null   float64\n",
            " 31  cat__Tech Support_Yes                          1057 non-null   float64\n",
            " 32  cat__Streaming TV_No                           1057 non-null   float64\n",
            " 33  cat__Streaming TV_No internet service          1057 non-null   float64\n",
            " 34  cat__Streaming TV_Yes                          1057 non-null   float64\n",
            " 35  cat__Streaming Movies_No                       1057 non-null   float64\n",
            " 36  cat__Streaming Movies_No internet service      1057 non-null   float64\n",
            " 37  cat__Streaming Movies_Yes                      1057 non-null   float64\n",
            " 38  cat__Contract_Month-to-month                   1057 non-null   float64\n",
            " 39  cat__Contract_One year                         1057 non-null   float64\n",
            " 40  cat__Contract_Two year                         1057 non-null   float64\n",
            " 41  cat__Paperless Billing_No                      1057 non-null   float64\n",
            " 42  cat__Paperless Billing_Yes                     1057 non-null   float64\n",
            " 43  cat__Payment Method_Bank transfer (automatic)  1057 non-null   float64\n",
            " 44  cat__Payment Method_Credit card (automatic)    1057 non-null   float64\n",
            " 45  cat__Payment Method_Electronic check           1057 non-null   float64\n",
            " 46  cat__Payment Method_Mailed check               1057 non-null   float64\n",
            "dtypes: float64(47)\n",
            "memory usage: 388.2 KB\n"
          ]
        },
        {
          "output_type": "stream",
          "name": "stderr",
          "text": [
            "/usr/local/lib/python3.10/dist-packages/pandas/core/arrays/base.py:530: RuntimeWarning: invalid value encountered in cast\n",
            "  result = np.asarray(self, dtype=dtype)\n",
            "/usr/local/lib/python3.10/dist-packages/pandas/core/arrays/base.py:530: RuntimeWarning: invalid value encountered in cast\n",
            "  result = np.asarray(self, dtype=dtype)\n",
            "/usr/local/lib/python3.10/dist-packages/pandas/core/arrays/base.py:530: RuntimeWarning: invalid value encountered in cast\n",
            "  result = np.asarray(self, dtype=dtype)\n"
          ]
        }
      ]
    },
    {
      "cell_type": "markdown",
      "source": [
        "# Criando o Modelo de Classificação\n",
        "\n",
        "## Decision Tree\n",
        "\n",
        "Agora que já foram analisados e limpo é criado um modelo de classificação."
      ],
      "metadata": {
        "id": "rL3DSZKvjP60"
      }
    },
    {
      "cell_type": "code",
      "source": [
        "from sklearn.model_selection import train_test_split\n",
        "from sklearn.tree import DecisionTreeClassifier\n",
        "from sklearn.metrics import accuracy_score, classification_report, confusion_matrix\n",
        "import matplotlib.pyplot as plt\n",
        "from sklearn.tree import plot_tree\n",
        "\n",
        "X_train = train_codificado.drop('cat__Churn Label_Yes', axis=1)\n",
        "y_train = train_codificado['cat__Churn Label_Yes']\n",
        "\n",
        "model = DecisionTreeClassifier(random_state=42)\n",
        "model.fit(X_train, y_train)\n"
      ],
      "metadata": {
        "colab": {
          "base_uri": "https://localhost:8080/",
          "height": 74
        },
        "id": "ttP0mKMxuxH0",
        "outputId": "02e6e42e-11c7-421b-b99d-ccb0874a7ccd"
      },
      "execution_count": 5,
      "outputs": [
        {
          "output_type": "execute_result",
          "data": {
            "text/plain": [
              "DecisionTreeClassifier(random_state=42)"
            ],
            "text/html": [
              "<style>#sk-container-id-1 {color: black;}#sk-container-id-1 pre{padding: 0;}#sk-container-id-1 div.sk-toggleable {background-color: white;}#sk-container-id-1 label.sk-toggleable__label {cursor: pointer;display: block;width: 100%;margin-bottom: 0;padding: 0.3em;box-sizing: border-box;text-align: center;}#sk-container-id-1 label.sk-toggleable__label-arrow:before {content: \"▸\";float: left;margin-right: 0.25em;color: #696969;}#sk-container-id-1 label.sk-toggleable__label-arrow:hover:before {color: black;}#sk-container-id-1 div.sk-estimator:hover label.sk-toggleable__label-arrow:before {color: black;}#sk-container-id-1 div.sk-toggleable__content {max-height: 0;max-width: 0;overflow: hidden;text-align: left;background-color: #f0f8ff;}#sk-container-id-1 div.sk-toggleable__content pre {margin: 0.2em;color: black;border-radius: 0.25em;background-color: #f0f8ff;}#sk-container-id-1 input.sk-toggleable__control:checked~div.sk-toggleable__content {max-height: 200px;max-width: 100%;overflow: auto;}#sk-container-id-1 input.sk-toggleable__control:checked~label.sk-toggleable__label-arrow:before {content: \"▾\";}#sk-container-id-1 div.sk-estimator input.sk-toggleable__control:checked~label.sk-toggleable__label {background-color: #d4ebff;}#sk-container-id-1 div.sk-label input.sk-toggleable__control:checked~label.sk-toggleable__label {background-color: #d4ebff;}#sk-container-id-1 input.sk-hidden--visually {border: 0;clip: rect(1px 1px 1px 1px);clip: rect(1px, 1px, 1px, 1px);height: 1px;margin: -1px;overflow: hidden;padding: 0;position: absolute;width: 1px;}#sk-container-id-1 div.sk-estimator {font-family: monospace;background-color: #f0f8ff;border: 1px dotted black;border-radius: 0.25em;box-sizing: border-box;margin-bottom: 0.5em;}#sk-container-id-1 div.sk-estimator:hover {background-color: #d4ebff;}#sk-container-id-1 div.sk-parallel-item::after {content: \"\";width: 100%;border-bottom: 1px solid gray;flex-grow: 1;}#sk-container-id-1 div.sk-label:hover label.sk-toggleable__label {background-color: #d4ebff;}#sk-container-id-1 div.sk-serial::before {content: \"\";position: absolute;border-left: 1px solid gray;box-sizing: border-box;top: 0;bottom: 0;left: 50%;z-index: 0;}#sk-container-id-1 div.sk-serial {display: flex;flex-direction: column;align-items: center;background-color: white;padding-right: 0.2em;padding-left: 0.2em;position: relative;}#sk-container-id-1 div.sk-item {position: relative;z-index: 1;}#sk-container-id-1 div.sk-parallel {display: flex;align-items: stretch;justify-content: center;background-color: white;position: relative;}#sk-container-id-1 div.sk-item::before, #sk-container-id-1 div.sk-parallel-item::before {content: \"\";position: absolute;border-left: 1px solid gray;box-sizing: border-box;top: 0;bottom: 0;left: 50%;z-index: -1;}#sk-container-id-1 div.sk-parallel-item {display: flex;flex-direction: column;z-index: 1;position: relative;background-color: white;}#sk-container-id-1 div.sk-parallel-item:first-child::after {align-self: flex-end;width: 50%;}#sk-container-id-1 div.sk-parallel-item:last-child::after {align-self: flex-start;width: 50%;}#sk-container-id-1 div.sk-parallel-item:only-child::after {width: 0;}#sk-container-id-1 div.sk-dashed-wrapped {border: 1px dashed gray;margin: 0 0.4em 0.5em 0.4em;box-sizing: border-box;padding-bottom: 0.4em;background-color: white;}#sk-container-id-1 div.sk-label label {font-family: monospace;font-weight: bold;display: inline-block;line-height: 1.2em;}#sk-container-id-1 div.sk-label-container {text-align: center;}#sk-container-id-1 div.sk-container {/* jupyter's `normalize.less` sets `[hidden] { display: none; }` but bootstrap.min.css set `[hidden] { display: none !important; }` so we also need the `!important` here to be able to override the default hidden behavior on the sphinx rendered scikit-learn.org. See: https://github.com/scikit-learn/scikit-learn/issues/21755 */display: inline-block !important;position: relative;}#sk-container-id-1 div.sk-text-repr-fallback {display: none;}</style><div id=\"sk-container-id-1\" class=\"sk-top-container\"><div class=\"sk-text-repr-fallback\"><pre>DecisionTreeClassifier(random_state=42)</pre><b>In a Jupyter environment, please rerun this cell to show the HTML representation or trust the notebook. <br />On GitHub, the HTML representation is unable to render, please try loading this page with nbviewer.org.</b></div><div class=\"sk-container\" hidden><div class=\"sk-item\"><div class=\"sk-estimator sk-toggleable\"><input class=\"sk-toggleable__control sk-hidden--visually\" id=\"sk-estimator-id-1\" type=\"checkbox\" checked><label for=\"sk-estimator-id-1\" class=\"sk-toggleable__label sk-toggleable__label-arrow\">DecisionTreeClassifier</label><div class=\"sk-toggleable__content\"><pre>DecisionTreeClassifier(random_state=42)</pre></div></div></div></div></div>"
            ]
          },
          "metadata": {},
          "execution_count": 5
        }
      ]
    },
    {
      "cell_type": "markdown",
      "source": [
        "# Métricas do Modelo:"
      ],
      "metadata": {
        "id": "8JSkSYvazfVr"
      }
    },
    {
      "cell_type": "code",
      "source": [
        "y_train_pred = model.predict(X_train)\n",
        "\n",
        "train_accuracy = accuracy_score(y_train, y_train_pred)\n",
        "print(f'Acurácia no conjunto de treino: {train_accuracy}')\n",
        "\n",
        "print(\"Relatório de classificação no conjunto de treino:\")\n",
        "print(classification_report(y_train, y_train_pred))\n",
        "\n",
        "print(\"Matriz de confusão no conjunto de treino:\")\n",
        "print(confusion_matrix(y_train, y_train_pred))"
      ],
      "metadata": {
        "colab": {
          "base_uri": "https://localhost:8080/",
          "height": 0
        },
        "id": "SQ9cBFVOzjwp",
        "outputId": "0d87c41a-638b-414e-f558-b21e95dd997a"
      },
      "execution_count": 6,
      "outputs": [
        {
          "output_type": "stream",
          "name": "stdout",
          "text": [
            "Acurácia no conjunto de treino: 0.9233210825258937\n",
            "Relatório de classificação no conjunto de treino:\n",
            "              precision    recall  f1-score   support\n",
            "\n",
            "         0.0       0.93      0.97      0.95      4409\n",
            "         1.0       0.89      0.80      0.85      1577\n",
            "\n",
            "    accuracy                           0.92      5986\n",
            "   macro avg       0.91      0.89      0.90      5986\n",
            "weighted avg       0.92      0.92      0.92      5986\n",
            "\n",
            "Matriz de confusão no conjunto de treino:\n",
            "[[4258  151]\n",
            " [ 308 1269]]\n"
          ]
        }
      ]
    },
    {
      "cell_type": "markdown",
      "source": [
        "# Fazendo as prediçoes no conjunto de dados Test"
      ],
      "metadata": {
        "id": "U87lhsnj0ftj"
      }
    },
    {
      "cell_type": "code",
      "source": [
        "churn_predictions = model.predict(test_codificado)\n",
        "\n",
        "teste = pd.DataFrame(churn_predictions)\n",
        "\n",
        "resultado = pd.concat([test['CustomerID'], teste], axis=1)\n",
        "resultado = resultado.rename(columns={0: 'Churn Label'})\n",
        "resultado['Churn Label'] = resultado['Churn Label'].replace({1.0: 'Yes', 0.0: 'No'})\n",
        "\n",
        "resultado.to_csv(r'C:\\Users\\tiago\\OneDrive\\Área de Trabalho\\CIS UNB\\2 Periodo TRAINEE\\decisionTree.csv', index=False)\n",
        "\n",
        "print(resultado.head())"
      ],
      "metadata": {
        "colab": {
          "base_uri": "https://localhost:8080/",
          "height": 0
        },
        "id": "aTqkpXHW0kAz",
        "outputId": "d38bd677-77e7-4fee-e204-40775c004a78"
      },
      "execution_count": 7,
      "outputs": [
        {
          "output_type": "stream",
          "name": "stdout",
          "text": [
            "   CustomerID Churn Label\n",
            "0  2189-WWOEW         Yes\n",
            "1  2446-ZKVAF          No\n",
            "2  4986-MXSFP          No\n",
            "3  5868-YWPDW          No\n",
            "4  9412-GHEEC         Yes\n"
          ]
        }
      ]
    },
    {
      "cell_type": "markdown",
      "source": [
        "# Utilizando o modelo Random Forest"
      ],
      "metadata": {
        "id": "34X9eXQo8LD9"
      }
    },
    {
      "cell_type": "code",
      "source": [
        "from sklearn.ensemble import RandomForestClassifier\n",
        "\n",
        "X_train #conjunto das features\n",
        "y_train #labels\n",
        "\n",
        "model_randomForest = RandomForestClassifier(max_depth=10)\n",
        "\n",
        "\n",
        "model_randomForest.fit(X_train, y_train)\n",
        "\n",
        "predictions = model_randomForest.predict(test_codificado)\n",
        "\n",
        "print(predictions)\n",
        "\n",
        "teste_randomForest = pd.DataFrame(predictions)\n",
        "\n",
        "resultado = pd.concat([test['CustomerID'], teste_randomForest], axis=1)\n",
        "resultado = resultado.rename(columns={0: 'Churn Label'})\n",
        "resultado['Churn Label'] = resultado['Churn Label'].replace({1.0: 'Yes', 0.0: 'No'})\n",
        "\n",
        "resultado.to_csv(r'C:\\Users\\tiago\\OneDrive\\Área de Trabalho\\CIS UNB\\2 Periodo TRAINEE\\decisionTree.csv', index=False)\n",
        "\n",
        "print(resultado.head())\n",
        "\n",
        "y_train_pred_randomForest = model_randomForest.predict(X_train)\n",
        "\n",
        "train_accuracy = accuracy_score(y_train, y_train_pred_randomForest)\n",
        "print(f'Acurácia no conjunto de treino: {train_accuracy}')\n",
        "\n",
        "print(\"Relatório de classificação no conjunto de treino:\")\n",
        "print(classification_report(y_train, y_train_pred_randomForest))\n",
        "\n",
        "print(\"Matriz de confusão no conjunto de treino:\")\n",
        "print(confusion_matrix(y_train, y_train_pred_randomForest))"
      ],
      "metadata": {
        "colab": {
          "base_uri": "https://localhost:8080/",
          "height": 0
        },
        "id": "G1LeHlSj8Phc",
        "outputId": "22c2c68d-776f-4ee7-9d2e-80840afd9fab"
      },
      "execution_count": 119,
      "outputs": [
        {
          "output_type": "stream",
          "name": "stdout",
          "text": [
            "[1. 0. 0. ... 0. 0. 0.]\n",
            "   CustomerID Churn Label\n",
            "0  2189-WWOEW         Yes\n",
            "1  2446-ZKVAF          No\n",
            "2  4986-MXSFP          No\n",
            "3  5868-YWPDW         Yes\n",
            "4  9412-GHEEC          No\n",
            "Acurácia no conjunto de treino: 0.8391246241229535\n",
            "Relatório de classificação no conjunto de treino:\n",
            "              precision    recall  f1-score   support\n",
            "\n",
            "         0.0       0.88      0.91      0.89      4409\n",
            "         1.0       0.72      0.64      0.68      1577\n",
            "\n",
            "    accuracy                           0.84      5986\n",
            "   macro avg       0.80      0.78      0.79      5986\n",
            "weighted avg       0.83      0.84      0.84      5986\n",
            "\n",
            "Matriz de confusão no conjunto de treino:\n",
            "[[4007  402]\n",
            " [ 561 1016]]\n"
          ]
        }
      ]
    },
    {
      "cell_type": "markdown",
      "source": [
        "# Utilizando Validação Cruzada para avaliar o modelo."
      ],
      "metadata": {
        "id": "BNDxhpljJ4Zn"
      }
    },
    {
      "cell_type": "code",
      "source": [
        "import numpy as np\n",
        "from sklearn.model_selection import cross_val_score, cross_validate, StratifiedKFold\n",
        "from sklearn.ensemble import RandomForestClassifier\n",
        "from sklearn.metrics import make_scorer, accuracy_score, precision_score, recall_score, f1_score\n",
        "\n",
        "X_train #conjunto das features\n",
        "y_train #labels\n",
        "\n",
        "model_randomForest = RandomForestClassifier(random_state=42,max_depth=10,max_features=15, ccp_alpha=0.001)\n",
        "\n",
        "kf = StratifiedKFold(n_splits=5, shuffle=True, random_state=42)\n",
        "\n",
        "\n",
        "scoring = {'accuracy': make_scorer(accuracy_score),\n",
        "           'precision': make_scorer(precision_score),\n",
        "           'recall': make_scorer(recall_score),\n",
        "           'f1': make_scorer(f1_score)}\n",
        "\n",
        "results = cross_validate(model_randomForest, X_train, y_train, cv=kf, scoring=scoring)\n",
        "\n",
        "print(f\"Accuracy: {results['test_accuracy'].mean()} (+/- {results['test_accuracy'].std()})\")\n",
        "print(f\"Precision: {results['test_precision'].mean()} (+/- {results['test_precision'].std()})\")\n",
        "print(f\"Recall: {results['test_recall'].mean()} (+/- {results['test_recall'].std()})\")\n",
        "print(f\"F1 Score: {results['test_f1'].mean()} (+/- {results['test_f1'].std()})\")"
      ],
      "metadata": {
        "colab": {
          "base_uri": "https://localhost:8080/",
          "height": 0
        },
        "id": "V9VfwUkmK2lc",
        "outputId": "8743a7c1-39f5-48d7-a639-cc5a07dbef43"
      },
      "execution_count": 42,
      "outputs": [
        {
          "output_type": "stream",
          "name": "stdout",
          "text": [
            "Accuracy: 0.7976937334990231 (+/- 0.005274070498841006)\n",
            "Precision: 0.6457174377729845 (+/- 0.01536800800652131)\n",
            "Recall: 0.5155635925256179 (+/- 0.023081926162601428)\n",
            "F1 Score: 0.5729336293061935 (+/- 0.01430673055692024)\n"
          ]
        }
      ]
    },
    {
      "cell_type": "markdown",
      "source": [
        "# Utilizando o modelo Naive Bayes"
      ],
      "metadata": {
        "id": "Op1AfxpmSr2E"
      }
    },
    {
      "cell_type": "code",
      "source": [
        "from sklearn.model_selection import train_test_split\n",
        "from sklearn.naive_bayes import BernoulliNB\n",
        "\n",
        "X_train1, X_test, y_train1, y_test = train_test_split(X_train, y_train, test_size=0.3, random_state=42)\n",
        "\n",
        "# Treinar o modelo\n",
        "model_NB = BernoulliNB(alpha=2)\n",
        "model_NB.fit(X_train1, y_train1)\n",
        "\n",
        "# Fazer previsões\n",
        "y_pred = model_NB.predict(X_test)\n",
        "\n",
        "# Avaliar o modelo\n",
        "accuracy = accuracy_score(y_test, y_pred)\n",
        "print(f'Acurácia: {accuracy:.2f}')\n",
        "\n",
        "print('Matriz de Confusão:')\n",
        "print(confusion_matrix(y_test, y_pred))\n",
        "\n",
        "print('Relatório de Classificação:')\n",
        "print(classification_report(y_test, y_pred))\n",
        "\n",
        "predictionsNB = model_NB.predict(test_codificado)\n",
        "\n",
        "print(predictionsNB)\n",
        "\n",
        "teste_NB = pd.DataFrame(predictionsNB)\n",
        "\n",
        "resultado = pd.concat([test['CustomerID'], teste_NB], axis=1)\n",
        "resultado = resultado.rename(columns={0: 'Churn Label'})\n",
        "resultado['Churn Label'] = resultado['Churn Label'].replace({1.0: 'Yes', 0.0: 'No'})\n",
        "\n",
        "resultado.to_csv(r'C:\\Users\\tiago\\OneDrive\\Área de Trabalho\\CIS UNB\\2 Periodo TRAINEE\\decisionTree.csv', index=False)"
      ],
      "metadata": {
        "colab": {
          "base_uri": "https://localhost:8080/",
          "height": 0
        },
        "id": "SmYuRrKsSvyE",
        "outputId": "6304aebf-831e-4c5a-9c84-b11cedac0674"
      },
      "execution_count": 61,
      "outputs": [
        {
          "output_type": "stream",
          "name": "stdout",
          "text": [
            "Acurácia: 0.74\n",
            "Matriz de Confusão:\n",
            "[[943 385]\n",
            " [ 78 390]]\n",
            "Relatório de Classificação:\n",
            "              precision    recall  f1-score   support\n",
            "\n",
            "         0.0       0.92      0.71      0.80      1328\n",
            "         1.0       0.50      0.83      0.63       468\n",
            "\n",
            "    accuracy                           0.74      1796\n",
            "   macro avg       0.71      0.77      0.72      1796\n",
            "weighted avg       0.81      0.74      0.76      1796\n",
            "\n",
            "[1. 1. 0. ... 0. 1. 0.]\n"
          ]
        }
      ]
    },
    {
      "cell_type": "markdown",
      "source": [
        "# Utilizando o modelo SVM"
      ],
      "metadata": {
        "id": "w2rm-nkJbD81"
      }
    },
    {
      "cell_type": "code",
      "source": [
        "from sklearn.preprocessing import StandardScaler\n",
        "from sklearn.svm import SVC\n",
        "\n",
        "X_train2, X_test2, y_train2, y_test2 = train_test_split(X_train, y_train, test_size=0.3, random_state=42)\n",
        "\n",
        "scaler = StandardScaler()\n",
        "X_train_scaled = scaler.fit_transform(X_train2)\n",
        "X_test_scaled = scaler.transform(X_test2)\n",
        "\n",
        "\n",
        "modelSVM = SVC(kernel='linear', C=1.0, probability= True)\n",
        "\n",
        "modelSVM.fit(X_train_scaled, y_train2)\n",
        "\n",
        "y_pred2 = modelSVM.predict(X_test_scaled)\n",
        "\n",
        "\n",
        "accuracy = accuracy_score(y_test2, y_pred2)\n",
        "print(f'Acurácia: {accuracy:.2f}')\n",
        "\n",
        "print('Matriz de Confusão:')\n",
        "print(confusion_matrix(y_test2, y_pred2))\n",
        "\n",
        "print('Relatório de Classificação:')\n",
        "print(classification_report(y_test2, y_pred2))\n",
        "\n",
        "predictionsSVM = modelSVM.predict(test_codificado)\n",
        "\n",
        "print(predictionsSVM)\n",
        "\n",
        "teste_NB = pd.DataFrame(predictionsSVM)\n",
        "\n",
        "resultado = pd.concat([test['CustomerID'], teste_NB], axis=1)\n",
        "resultado = resultado.rename(columns={0: 'Churn Label'})\n",
        "resultado['Churn Label'] = resultado['Churn Label'].replace({1.0: 'Yes', 0.0: 'No'})\n",
        "\n",
        "resultado.to_csv(r'C:\\Users\\tiago\\OneDrive\\Área de Trabalho\\CIS UNB\\2 Periodo TRAINEE\\decisionTree.csv', index=False)"
      ],
      "metadata": {
        "colab": {
          "base_uri": "https://localhost:8080/",
          "height": 0
        },
        "id": "Ai3IjkyqbHQX",
        "outputId": "3e483591-50e1-405d-89da-a0c64a7f65ce"
      },
      "execution_count": 74,
      "outputs": [
        {
          "output_type": "stream",
          "name": "stdout",
          "text": [
            "Acurácia: 0.81\n",
            "Matriz de Confusão:\n",
            "[[1163  165]\n",
            " [ 184  284]]\n",
            "Relatório de Classificação:\n",
            "              precision    recall  f1-score   support\n",
            "\n",
            "         0.0       0.86      0.88      0.87      1328\n",
            "         1.0       0.63      0.61      0.62       468\n",
            "\n",
            "    accuracy                           0.81      1796\n",
            "   macro avg       0.75      0.74      0.74      1796\n",
            "weighted avg       0.80      0.81      0.80      1796\n",
            "\n",
            "[0. 0. 0. ... 0. 0. 0.]\n"
          ]
        },
        {
          "output_type": "stream",
          "name": "stderr",
          "text": [
            "/usr/local/lib/python3.10/dist-packages/sklearn/base.py:458: UserWarning: X has feature names, but SVC was fitted without feature names\n",
            "  warnings.warn(\n"
          ]
        }
      ]
    },
    {
      "cell_type": "markdown",
      "source": [
        "# Respondendo as perguntas\n",
        "\n",
        "1) Algumas cidade possuem uma taxa de 100% de Churn porem um número pequeno de casos. Ao filtrar para cidades com pelo menos 50 clientes, podemos ver que as cidades com maior taxa de Churn são respectivamente: Los Angeles, San Diego e San Jose.\n",
        "O Churn é mais prevalente em clientes novos, especialmente entre 0 e 10 meses, com uma taxa de quase 50%.\n",
        "E os serviços menos utilizados são Online Security (1696), Tech Support (1743) e Online Backup (2044)\n",
        "\n",
        "2) Os resultados obtidos com o modelo RandomForest forem melhores no geral do que o modelo DecisionTree. Apesar do modelo DecisionTree possuir métricas melhores, ele perfomou pior no cojunto de Test, provavelmente por conta de Overfitting do modelo. As métricas de cada um:\n",
        "\n",
        "    DecisionTree:\n",
        "    Acurácia no conjunto de treino: 0.9233210825258937\n",
        "    Relatório de classificação no conjunto de treino:\n",
        "                  precision    recall  f1-score   support\n",
        "\n",
        "            0.0       0.93      0.97      0.95      4409\n",
        "            1.0       0.89      0.80      0.85      1577\n",
        "\n",
        "        accuracy                           0.92      5986\n",
        "      macro avg       0.91      0.89      0.90      5986\n",
        "    weighted avg       0.92      0.92      0.92      5986\n",
        "\n",
        "    Matriz de confusão no conjunto de treino:\n",
        "    [[4258  151]\n",
        "    [ 308 1269]]\n",
        "\n",
        "\n",
        "    RandomForest:\n",
        "    Acurácia no conjunto de treino: 0.8391246241229535\n",
        "    Relatório de classificação no conjunto de treino:\n",
        "                  precision    recall  f1-score   support\n",
        "\n",
        "            0.0       0.88      0.91      0.89      4409\n",
        "            1.0       0.72      0.64      0.68      1577\n",
        "\n",
        "        accuracy                           0.84      5986\n",
        "      macro avg       0.80      0.78      0.79      5986\n",
        "    weighted avg       0.83      0.84      0.84      5986\n",
        "\n",
        "    Matriz de confusão no conjunto de treino:\n",
        "    [[4007  402]\n",
        "    [ 561 1016]]\n",
        "\n",
        "\n",
        "3) Utilizando Validação Cruzada para avaliar o desempenho do modelo RandomForest, foi-se obtida as seguintes métricas:\n",
        "\n",
        "    Accuracy: 0.7976937334990231 (+/- 0.005274070498841006)\n",
        "    Precision: 0.6457174377729845 (+/- 0.01536800800652131)\n",
        "    Recall: 0.5155635925256179 (+/- 0.023081926162601428)\n",
        "    F1 Score: 0.5729336293061935 (+/- 0.01430673055692024)\n",
        "\n",
        "Validação Cruzada K-Fold: Os dados são divididos em K partes, e uma delas é usada pra testar o modelo enquanto o resto usa pra treinar o modelo. Ele é repetido uma vez para cada K parte. Ele pode ser aplicado para reduzir a variabilidade.\n",
        "\n",
        "Validação Cruzada Leave-One-Out (LOO): Nesse o K é igual o número total de elemento, e apenas 1 é usado pra teste, todos os outros são usados para treino. Sua aplicação é para conjunto de dados pequenos onde se deseja usar mais dados para treino.\n",
        "\n",
        "Validação Cruzada Estratificada: Parecida com a validação cruzada K-Fold onde a divisão dos dados é feita de maneira que cada fold tem a mesma proporção de classes como o conjunto de dados original. Sua aplicação é útil para problemas de classificação desbalanceada.\n",
        "\n",
        "4) A redução de dimensionalidade como o PCA afeta de maneira positiva os modelos de predição de Churn. Ela reduz um dos principais problemas encontrados até agora que é o Overfitting, onde o modelo possui um ótimo resultado nos dados de treine porém desempenha mal nos dados de teste."
      ],
      "metadata": {
        "id": "aKnNv20RfA9-"
      }
    },
    {
      "cell_type": "code",
      "source": [
        "cidade_churn = train[['City', 'Churn Label']]\n",
        "\n",
        "contagem_churn = cidade_churn.groupby('City')['Churn Label'].value_counts().unstack(fill_value=0)\n",
        "contagem_churn.columns = ['count_no', 'count_yes']\n",
        "contagem_churn['total'] = contagem_churn['count_no'] + contagem_churn['count_yes']\n",
        "contagem_churn['taxa_churn'] = contagem_churn['count_yes'] / contagem_churn['total']\n",
        "contagem_churn_filtrada = contagem_churn[contagem_churn['total'] > 50]\n",
        "cidades_ordenadas = contagem_churn_filtrada.sort_values(by=['taxa_churn', 'total'], ascending=[False, False])\n",
        "print(cidades_ordenadas)\n",
        "\n",
        "tempo_churn = train[['Tenure Months', 'Churn Label']]\n",
        "tempo_churn.loc[:, 'Intervalo 10 Meses'] = (tempo_churn['Tenure Months'] // 10) * 10\n",
        "contagem_churn = tempo_churn.groupby('Intervalo 10 Meses')['Churn Label'].value_counts().unstack(fill_value=0)\n",
        "contagem_churn.columns = ['Count_No', 'Count_Yes']\n",
        "contagem_churn['Total'] = contagem_churn['Count_No'] + contagem_churn['Count_Yes']\n",
        "contagem_churn['Taxa_Churn_Yes'] = contagem_churn['Count_Yes'] / contagem_churn['Total']\n",
        "\n",
        "plt.figure(figsize=(10, 6))\n",
        "plt.plot(contagem_churn.index, contagem_churn['Taxa_Churn_Yes'], marker='o', linestyle='-', color='b')\n",
        "plt.xlabel('Intervalo de Meses')\n",
        "plt.ylabel('Taxa de Churn')\n",
        "plt.title('Taxa de Churn por Intervalo de Meses')\n",
        "plt.grid(True)\n",
        "plt.show()\n",
        "\n",
        "servicos = train[['Phone Service', 'Multiple Lines', 'Internet Service', 'Online Security', 'Online Backup', 'Device Protection', 'Tech Support', 'Streaming TV', 'Streaming Movies']]\n",
        "contagem_servicos = servicos.apply(lambda x: x.value_counts().get('Yes', 0))\n",
        "servicos_menos_utilizados = contagem_servicos.sort_values(ascending=True)\n",
        "contagem_no = servicos['Internet Service'].value_counts().get('No', 0)\n",
        "print(f'Quantidade de usos de Internet Service: {5986 - contagem_no}')\n",
        "print(servicos_menos_utilizados)"
      ],
      "metadata": {
        "colab": {
          "base_uri": "https://localhost:8080/",
          "height": 1000
        },
        "id": "y_BRMb9Lnwq9",
        "outputId": "01bc4a57-2c6f-46be-b3b3-31300f1fcdcf"
      },
      "execution_count": 118,
      "outputs": [
        {
          "output_type": "stream",
          "name": "stdout",
          "text": [
            "               count_no  count_yes  total  taxa_churn\n",
            "City                                                 \n",
            "Los Angeles         189         81    270    0.300000\n",
            "San Diego            91         39    130    0.300000\n",
            "San Jose             68         26     94    0.276596\n",
            "San Francisco        66         25     91    0.274725\n",
            "Fresno               43         15     58    0.258621\n",
            "Long Beach           39         13     52    0.250000\n",
            "Sacramento           68         22     90    0.244444\n"
          ]
        },
        {
          "output_type": "stream",
          "name": "stderr",
          "text": [
            "<ipython-input-118-81da9a67f1db>:12: SettingWithCopyWarning: \n",
            "A value is trying to be set on a copy of a slice from a DataFrame.\n",
            "Try using .loc[row_indexer,col_indexer] = value instead\n",
            "\n",
            "See the caveats in the documentation: https://pandas.pydata.org/pandas-docs/stable/user_guide/indexing.html#returning-a-view-versus-a-copy\n",
            "  tempo_churn.loc[:, 'Intervalo 10 Meses'] = (tempo_churn['Tenure Months'] // 10) * 10\n"
          ]
        },
        {
          "output_type": "display_data",
          "data": {
            "text/plain": [
              "<Figure size 1000x600 with 1 Axes>"
            ],
            "image/png": "[encoded data removed]"
          },
          "metadata": {}
        },
        {
          "output_type": "stream",
          "name": "stdout",
          "text": [
            "Quantidade de usos de Internet Service: 4668\n",
            "Internet Service        0\n",
            "Online Security      1696\n",
            "Tech Support         1743\n",
            "Online Backup        2044\n",
            "Device Protection    2056\n",
            "Streaming TV         2274\n",
            "Streaming Movies     2321\n",
            "Multiple Lines       2507\n",
            "Phone Service        5401\n",
            "dtype: int64\n"
          ]
        }
      ]
    },
    {
      "cell_type": "markdown",
      "source": [],
      "metadata": {
        "id": "KLYACaerQlBv"
      }
    }
  ]
}